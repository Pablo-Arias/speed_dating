{
 "cells": [
  {
   "cell_type": "markdown",
   "metadata": {},
   "source": [
    "# Imports"
   ]
  },
  {
   "cell_type": "markdown",
   "metadata": {},
   "source": [
    "Working in the stim39 environemnt"
   ]
  },
  {
   "cell_type": "code",
   "execution_count": 11,
   "metadata": {},
   "outputs": [],
   "source": [
    "#Imports\n",
    "import glob\n",
    "import pandas as pd\n",
    "import seaborn as sns\n",
    "import matplotlib.pyplot as plt\n",
    "import numpy as np\n",
    "from conversions import get_file_without_path\n",
    "from statsmodels.tsa.stattools import adfuller\n",
    "from statsmodels.graphics.tsaplots import plot_pacf\n",
    "from statsmodels.tsa.api import VAR\n",
    "\n",
    "import sklearn.feature_selection\n",
    "from sklearn.feature_selection import mutual_info_regression\n",
    "\n",
    "import statsmodels.api as sm\n",
    "from scipy import signal\n",
    "from scipy import stats\n",
    "\n",
    "from statsmodels.tsa.stattools import grangercausalitytests\n",
    "import numpy as np\n",
    "import random\n",
    "from pyinform import mutual_info\n",
    "\n",
    "from eelbrain import *\n"
   ]
  },
  {
   "cell_type": "code",
   "execution_count": null,
   "metadata": {},
   "outputs": [],
   "source": [
    "au_df = pd.read_csv(\"data/au_df_30hz.csv\")"
   ]
  },
  {
   "cell_type": "code",
   "execution_count": null,
   "metadata": {},
   "outputs": [],
   "source": [
    "def get_file_tag_behavior(row):\n",
    "    file_tag = get_file_without_path(row[\"participant_video\"])\n",
    "    return file_tag\n",
    "\n",
    "#Merge with behavior data set\n",
    "behavior_df = pd.read_csv(\"data/behavior_df.csv\")\n",
    "behavior_df[\"file_tag\"] = behavior_df.apply(get_file_tag_behavior, axis=1)\n",
    "\n",
    "behavior_df[\"question\"] = behavior_df[\"question\"] + [\"_\" for i in range(len(behavior_df))] + behavior_df[\"question_content\"]\n",
    "\n",
    "behavior_df = behavior_df.pivot_table(\n",
    "        values='measure', \n",
    "        index=['file_tag', 'participant_nb', 'interacting_partner',\"dyad\", 'N', 'day','female_condition'\n",
    "                       , 'female_video', 'individual_date', 'male_condition'\n",
    "                       , 'male_video', 'sex', 'other_sex', 'participant_condition'\n",
    "                       , 'other_condition', 'participant_video', 'other_video', \"congruence\"], \n",
    "        columns='question',\n",
    "        aggfunc=np.mean)\n",
    "\n",
    "behavior_df = behavior_df.reset_index()"
   ]
  },
  {
   "cell_type": "markdown",
   "metadata": {},
   "source": [
    "# All data - all manipulated pairs"
   ]
  },
  {
   "cell_type": "markdown",
   "metadata": {},
   "source": [
    "## Prepare data"
   ]
  },
  {
   "cell_type": "code",
   "execution_count": null,
   "metadata": {},
   "outputs": [],
   "source": [
    "source_features = [\"happiness\"]\n",
    "\n",
    "other_manipulations = [True,  False]\n",
    "\n",
    "target_features =  [\"happiness\"]"
   ]
  },
  {
   "cell_type": "code",
   "execution_count": null,
   "metadata": {
    "scrolled": false
   },
   "outputs": [],
   "source": [
    "#Both manipulated with the same value\n",
    "lag = 300 # 10 seconds before and 10 seconds after\n",
    "\n",
    "mi_df = pd.DataFrame()\n",
    "df_lags = pd.DataFrame()\n",
    "for other_manipulated in other_manipulations:\n",
    "    for (participant_manipulated, dyad, participant_nb), dyad_df in au_df.groupby([\"manipulated\", \"dyad\", \"participant_nb\"]):\n",
    "        \n",
    "        if participant_manipulated == True:\n",
    "            continue\n",
    "            \n",
    "        #Prepare participants' time series\n",
    "        participant_df = dyad_df.loc[dyad_df[\"participant_nb\"] == participant_nb]\n",
    "        participant_df = participant_df.ffill(axis=\"rows\")\n",
    "        participant_df = participant_df.bfill(axis=\"rows\")\n",
    "\n",
    "        interacting_partner = np.unique(participant_df[\"interacting_partner\"])[0]    \n",
    "        partner_df = au_df.loc[au_df[\"participant_nb\"] == interacting_partner]\n",
    "        partner_df = partner_df.loc[partner_df[\"dyad\"] == dyad]    \n",
    "        partner_df = partner_df.loc[partner_df[\"manipulated\"] == other_manipulated]        \n",
    "        partner_df = partner_df.ffill(axis=\"rows\")\n",
    "        partner_df = partner_df.bfill(axis=\"rows\")\n",
    "\n",
    "\n",
    "        for source_feature in source_features:\n",
    "            for target_feature in target_features:    \n",
    "\n",
    "                #preapre participant time series\n",
    "                X = participant_df[source_feature].values\n",
    "\n",
    "                #preapre target time series\n",
    "                y = partner_df[target_feature].values\n",
    "                \n",
    "                if dyad == \"2_M3_PM2_F3_PM\":\n",
    "                    print(\"Artefact rejected\")\n",
    "                    continue\n",
    "                    \n",
    "                if \"1_M4_AM1_F2_AM\" == dyad:\n",
    "                    print(\"Artefact rejected\")\n",
    "                    continue\n",
    "                \n",
    "                if (\"2_M2_AM2_F4_AM\" == dyad):\n",
    "                    print(\"Artefact rejected\")\n",
    "                    continue\n",
    "\n",
    "                #cross-correlation\n",
    "                corr_X = [(val-np.nanmean(X))/np.nanstd(X) for val in X]\n",
    "                corr_y = [(val-np.nanmean(y))/np.nanstd(y) for val in y]\n",
    "                corr = signal.correlate(corr_X, corr_y, mode='same') \n",
    "                corr = corr  / len(X)\n",
    "\n",
    "                #Select only cross correaltion between +/- 5s\n",
    "                selected_corr = corr[round(len(corr)/2 - lag): round(len(corr)/2 + lag)]\n",
    "                pears_r, p = stats.pearsonr(corr_X, corr_y)\n",
    "\n",
    "                mean_corr = np.arctanh(np.nanmean(selected_corr))\n",
    "                max_corr = np.arctanh(np.nanmax(selected_corr))\n",
    "                min_corr = np.arctanh(np.nanmin(selected_corr))\n",
    "                abs_mean_corr = np.arctanh(np.nanmean(abs(selected_corr)))\n",
    "                std_corr = np.nanstd(selected_corr) \n",
    "                pears_r = np.arctanh(pears_r)\n",
    "\n",
    "                #mi\n",
    "                X = X.reshape(-1,1)    \n",
    "                mi = mutual_info_regression(X=X, y=y\n",
    "                                   , discrete_features = 'auto'\n",
    "                                   , n_neighbors = 60\n",
    "                                   , copy = True\n",
    "                                   , random_state=None\n",
    "                               )\n",
    "\n",
    "                #Recover MI results\n",
    "                aux_df = pd.DataFrame()\n",
    "                aux_df[\"source_feature\"]         = [source_feature]\n",
    "                aux_df[\"target_feature\"]         = [target_feature]\n",
    "                aux_df[\"participant_manipulated\"]  = [participant_manipulated]\n",
    "                aux_df[\"interacting_partner\"]  = [interacting_partner]\n",
    "                aux_df[\"participant_nb\"]  = [participant_nb]\n",
    "                aux_df[\"other_manipulated\"]  = [other_manipulated]            \n",
    "                aux_df[\"dyad\"]  = [dyad]\n",
    "                aux_df[\"mi\"]    = mi\n",
    "                aux_df[\"mean_corr\"] = [mean_corr]\n",
    "                aux_df[\"max_corr\"]  = [max_corr]\n",
    "\n",
    "                aux_lags_df = pd.DataFrame()\n",
    "                aux_lags_df[\"lag\"]  = range(2*lag)\n",
    "                aux_lags_df[\"lag\"]  = aux_lags_df[\"lag\"]-lag\n",
    "                aux_lags_df[\"corr\"] = selected_corr\n",
    "                aux_lags_df[\"dyad\"] = [dyad for i in range(len(aux_lags_df))]    \n",
    "                aux_lags_df[\"source_feature\"]         = [source_feature for i in range(len(aux_lags_df))]\n",
    "                aux_lags_df[\"target_feature\"]         = [target_feature for i in range(len(aux_lags_df))]\n",
    "                aux_lags_df[\"participant_manipulated\"]  = [participant_manipulated for i in range(len(aux_lags_df))]\n",
    "                aux_lags_df[\"interacting_partner\"]    = [interacting_partner for i in range(len(aux_lags_df))]\n",
    "                aux_lags_df[\"participant_nb\"]         = [participant_nb for i in range(len(aux_lags_df))]\n",
    "                aux_lags_df[\"other_manipulated\"]  = [other_manipulated for i in range(len(aux_lags_df))]            \n",
    "                df_lags = pd.concat([df_lags, aux_lags_df])\n",
    "\n",
    "                mi_df = pd.concat([mi_df, aux_df])"
   ]
  },
  {
   "cell_type": "code",
   "execution_count": null,
   "metadata": {},
   "outputs": [],
   "source": [
    "#Merge with behavior\n",
    "mi_df = behavior_df.merge(mi_df, on=[\"dyad\", \"participant_nb\", \"interacting_partner\"])\n",
    "\n",
    "#compute normalisation measures\n",
    "mi_df[\"norm_seeing_again\"]          = mi_df[\"Q2_seeing_again\"]          - mi_df[\"Q1_seeing_again\"]\n",
    "mi_df[\"norm_good_conversation\"]     = mi_df[\"Q2_good_conversation\"]     - mi_df[\"Q1_good_conversation\"]\n",
    "mi_df[\"norm_other_seeing_me_again\"] = mi_df[\"Q2_other_seeing_me_again\"] - mi_df[\"Q1_other_seeing_me_again\"]\n",
    "mi_df[\"norm_smile\"]                 = mi_df[\"Q2_smile\"] - mi_df[\"Q1_smile\"]\n",
    "\n",
    "#print len\n",
    "print(len(mi_df))"
   ]
  },
  {
   "cell_type": "code",
   "execution_count": null,
   "metadata": {},
   "outputs": [],
   "source": [
    "#Merge with behavior\n",
    "df_lags = behavior_df.merge(df_lags, on=[\"dyad\", \"participant_nb\", \"interacting_partner\"])\n",
    "df_lags.to_csv(\"R_scripts/data/lags_df_py_feat_\"+source_feature+\"_all_manipulated_pairs.csv\")"
   ]
  },
  {
   "cell_type": "code",
   "execution_count": null,
   "metadata": {},
   "outputs": [],
   "source": [
    "def get_female_id(row):\n",
    "    p = row[\"participant_nb\"]\n",
    "    i = row[\"interacting_partner\"]\n",
    "    sex = row[\"sex\"]    \n",
    "    \n",
    "    if sex == \"F\":\n",
    "        return p\n",
    "    else:\n",
    "        return i\n",
    "\n",
    "def get_male_id(row):\n",
    "    p = row[\"participant_nb\"]\n",
    "    i = row[\"interacting_partner\"]\n",
    "    sex = row[\"sex\"]    \n",
    "    \n",
    "    if sex == \"M\":\n",
    "        return p\n",
    "    else:\n",
    "        return i\n",
    "    \n",
    "df_analysis = mi_df.groupby([\"dyad\", \"participant_nb\", \"interacting_partner\"\n",
    "                             , \"sex\", \"male_condition\", \"female_condition\"\n",
    "                             , \"participant_manipulated\", \"other_manipulated\"\n",
    "                             , \"participant_condition\", \"other_condition\"]).mean(numeric_only=True).reset_index()\n",
    "\n",
    "df_analysis[\"male_id\"]   = df_analysis.apply(get_male_id, axis=1)\n",
    "df_analysis[\"female_id\"] = df_analysis.apply(get_female_id, axis=1)\n",
    "\n",
    "df_analysis.to_csv(\"R_scripts/data/mi_df_py_feat_\"+source_feature+\"_all_manipulated_pairs.csv\")\n"
   ]
  },
  {
   "cell_type": "markdown",
   "metadata": {},
   "source": [
    "## Plot time series"
   ]
  },
  {
   "cell_type": "code",
   "execution_count": null,
   "metadata": {},
   "outputs": [],
   "source": [
    "#mi_df = pd.read_csv(\"R_scripts/data/mi_df_py_feat_AU12_all_manipulated_pairs.csv\")\n",
    "\n",
    "mi_df = pd.read_csv(\"R_scripts/data/mi_df_py_feat_happiness_all_manipulated_pairs.csv\")\n",
    "\n",
    "\n",
    "mi_df = mi_df.loc[mi_df[\"participant_manipulated\"] == False]"
   ]
  },
  {
   "cell_type": "code",
   "execution_count": null,
   "metadata": {},
   "outputs": [],
   "source": [
    "au_df = pd.read_csv(\"../open_source_AU/data/au_df_30hz.csv\")"
   ]
  },
  {
   "cell_type": "code",
   "execution_count": null,
   "metadata": {},
   "outputs": [],
   "source": [
    "zygo_vals = [\"happiness\"]\n",
    "plot_folder = \"plots/time_series_au_mi_py_feat_all_manip_pairs/\""
   ]
  },
  {
   "cell_type": "code",
   "execution_count": null,
   "metadata": {},
   "outputs": [],
   "source": [
    "#Plots for paper\n",
    "plot_folder = \"plots/ts_for_paper/\"\n",
    "\n",
    "dayds = [\"2_M4_PM2_F1_PM\", \"2_M2_AM2_F3_AM\"]\n",
    "\n",
    "start = 1000\n",
    "stop = 6000\n",
    "\n",
    "lw = 2\n",
    "\n",
    "\n",
    "colors = [\"#000000\", \"#377E22\"]\n",
    "\n",
    "for (dyad, participant_nb, interacting_partner, manipulated, other_manipulated), df in mi_df.groupby([\"dyad\", \"participant_nb\", \"interacting_partner\", \"participant_manipulated\", \"other_manipulated\"]):\n",
    "    if dyad not in dayds:\n",
    "        continue\n",
    "        \n",
    "    participant_df = au_df.loc[au_df[\"dyad\"] == dyad]\n",
    "    participant_df = participant_df.loc[participant_df[\"manipulated\"] == manipulated] \n",
    "    participant_df = participant_df.loc[participant_df[\"participant_nb\"] == participant_nb]\n",
    "    participant_df = participant_df.ffill(axis=\"rows\")\n",
    "    participant_df = participant_df.bfill(axis=\"rows\")\n",
    "    \n",
    "    partner_df = au_df.loc[au_df[\"dyad\"] == dyad]\n",
    "    partner_df = partner_df.loc[partner_df[\"manipulated\"] == other_manipulated] \n",
    "    partner_df = partner_df.loc[partner_df[\"participant_nb\"] == interacting_partner]\n",
    "    partner_df = partner_df.ffill(axis=\"rows\")\n",
    "    partner_df = partner_df.bfill(axis=\"rows\")\n",
    "    \n",
    "    if len(np.unique(df[\"max_corr\"])) > 1 :\n",
    "        print(\"error more than one mi measure\")\n",
    "\n",
    "    max_corr = np.unique(df[\"max_corr\"])[0]\n",
    "    max_corr = int(max_corr*1000)\n",
    "    \n",
    "    mi = np.unique(df[\"mi\"])[0]\n",
    "    mi = int(mi*1000)\n",
    "\n",
    "    #plot\n",
    "    plt.figure(figsize=(7.5, 2))\n",
    "    plt.plot((participant_df[\"frame\"].values/29)[start:stop], participant_df[zygo_vals].values[start:stop], lw=lw, color=colors[0])\n",
    "    plt.plot((partner_df[\"frame\"].values/29)[start:stop], partner_df[zygo_vals].values[start:stop], lw=lw, color=colors[1])\n",
    "\n",
    "    #plt.ylim([-0.1, 1.07])\n",
    "    plt.xlabel('')\n",
    "    plt.ylabel('')\n",
    "    plt.gca().set_xticklabels([])\n",
    "    plt.gca().set_yticklabels([])    \n",
    "    plt.yticks([])\n",
    "    \n",
    "    plt.savefig(plot_folder + \"_max_corr_\"+ format(max_corr, '04d') + \"_\"  + dyad+\"_\"+ participant_nb + \"_\" + str(manipulated) + \"_\" + interacting_partner + \"_\" + str(other_manipulated) + \".pdf\", bbox_inches='tight')\n",
    "    plt.savefig(plot_folder + \"_mi_\"+ format(mi, '04d') + \"_\"  + dyad+\"_\"+ participant_nb + \"_\" + str(manipulated) + \"_\" + interacting_partner + \"_\" + str(other_manipulated) + \".pdf\", bbox_inches='tight')\n",
    "    "
   ]
  },
  {
   "cell_type": "markdown",
   "metadata": {},
   "source": [
    "## Mututal Information"
   ]
  },
  {
   "cell_type": "code",
   "execution_count": null,
   "metadata": {},
   "outputs": [],
   "source": [
    "#mi_df = pd.read_csv(\"R_scripts/data/mi_df_py_feat_AU12_all_manipulated_pairs.csv\")\n",
    "\n",
    "mi_df = pd.read_csv(\"R_scripts/data/mi_df_py_feat_happiness_all_manipulated_pairs.csv\")\n",
    "\n",
    "mi_df = mi_df.loc[mi_df[\"participant_manipulated\"] == False]"
   ]
  },
  {
   "cell_type": "code",
   "execution_count": null,
   "metadata": {},
   "outputs": [],
   "source": [
    "df_analysis = mi_df.reset_index()\n",
    "\n",
    "df_analysis = df_analysis.loc[df_analysis[\"participant_manipulated\"] == False]\n",
    "df_analysis = df_analysis.loc[df_analysis[\"other_manipulated\"] == True]\n",
    "\n",
    "df_analysis = df_analysis.groupby([\"participant_nb\", \"male_condition\", \"female_condition\", \"other_manipulated\"]).mean(numeric_only=True).reset_index()\n",
    "\n",
    "g = sns.catplot(x=\"male_condition\", y=\"mi\", hue=\"female_condition\"\n",
    "            , units=\"participant_nb\"\n",
    "            , col=\"other_manipulated\"\n",
    "            , palette = [\"#FF0000\", \"#0000FF\"]\n",
    "            , data=df_analysis, kind=\"point\", sharey=False\n",
    "            , aspect=0.6\n",
    "            , capsize=.08\n",
    "            , scale=1.4\n",
    "            , dodge= 0.15\n",
    "            , errwidth=2      \n",
    "            , height=4.2     \n",
    "            , legend=False\n",
    "           )\n",
    "\n",
    "#g.set(ylim=(-0.8, 0.9))\n",
    "\n",
    "#g.set(xticklabels=[], yticklabels=[], title='',xlabel=None, ylabel=None)\n",
    "\n",
    "plt.savefig(\"plots/mi.pdf\", bbox_inches='tight')\n"
   ]
  },
  {
   "cell_type": "code",
   "execution_count": null,
   "metadata": {},
   "outputs": [],
   "source": [
    "df_analysis = mi_df.reset_index()\n",
    "\n",
    "df_analysis = df_analysis.loc[df_analysis[\"participant_manipulated\"] == False]\n",
    "\n",
    "df_analysis = df_analysis.groupby([\"participant_nb\", \"male_condition\", \"female_condition\", \"other_manipulated\"]).mean(numeric_only=True).reset_index()\n",
    "\n",
    "g = sns.catplot(x=\"male_condition\", y=\"mi\", hue=\"female_condition\"\n",
    "            , units=\"participant_nb\"\n",
    "            , col=\"other_manipulated\"\n",
    "            , palette = [\"#FF0000\", \"#0000FF\"]\n",
    "            , data=df_analysis, kind=\"point\", sharey=False\n",
    "            , aspect=0.6\n",
    "            , capsize=.08\n",
    "            , scale=1.4\n",
    "            , dodge= 0.15\n",
    "            , errwidth=2      \n",
    "            , height=4.2     \n",
    "            , legend=False\n",
    "           )\n",
    "\n",
    "#g.set(ylim=(-0.8, 0.9))\n",
    "\n",
    "#g.set(xticklabels=[], yticklabels=[], title='',xlabel=None, ylabel=None)\n",
    "\n",
    "plt.savefig(\"plots/mi.pdf\", bbox_inches='tight')\n"
   ]
  },
  {
   "cell_type": "code",
   "execution_count": null,
   "metadata": {},
   "outputs": [],
   "source": [
    "df_analysis = mi_df.reset_index()\n",
    "\n",
    "df_analysis = df_analysis.loc[df_analysis[\"participant_manipulated\"] == False]\n",
    "df_analysis = df_analysis.loc[df_analysis[\"other_manipulated\"] == False]\n",
    "\n",
    "df_analysis = df_analysis.groupby([\"participant_nb\", \"male_condition\", \"female_condition\", \"other_manipulated\"]).mean(numeric_only=True).reset_index()\n",
    "\n",
    "g = sns.catplot(x=\"male_condition\", y=\"mi\", hue=\"female_condition\"\n",
    "            , units=\"participant_nb\"\n",
    "            , col=\"other_manipulated\"\n",
    "            , palette = [\"#FF0000\", \"#0000FF\"]\n",
    "            , data=df_analysis, kind=\"point\", sharey=False\n",
    "            , aspect=0.9\n",
    "            , capsize=.08\n",
    "            , scale=1.4\n",
    "            , dodge= 0.15\n",
    "            , errwidth=2      \n",
    "            , height=4.4\n",
    "            , legend=False\n",
    "           )\n",
    "\n",
    "sns.stripplot(x=\"male_condition\", y=\"mi\"\n",
    "              , hue=\"female_condition\"\n",
    "              , dodge=0.15, size=3, alpha=0.4, palette=[\"red\", \"blue\"], legend=False\n",
    "              , data=df_analysis\n",
    "             )\n",
    "\n",
    "#g.set(ylim=(-0.8, 0.9))\n",
    "\n",
    "#g.set(xticklabels=[], yticklabels=[], title='',xlabel=None, ylabel=None)\n",
    "\n",
    "plt.savefig(\"plots/mi_other_manip.pdf\", bbox_inches='tight')\n"
   ]
  },
  {
   "cell_type": "code",
   "execution_count": null,
   "metadata": {},
   "outputs": [],
   "source": [
    "df_analysis = mi_df.reset_index()\n",
    "\n",
    "df_analysis = df_analysis.loc[df_analysis[\"participant_manipulated\"] == False]\n",
    "df_analysis = df_analysis.loc[df_analysis[\"other_manipulated\"] == True]\n",
    "\n",
    "df_analysis = df_analysis.groupby([\"participant_nb\", \"male_condition\", \"female_condition\", \"other_manipulated\"]).mean(numeric_only=True).reset_index()\n",
    "\n",
    "g = sns.catplot(x=\"male_condition\", y=\"max_corr\", hue=\"female_condition\"\n",
    "            , units=\"participant_nb\"\n",
    "            , col=\"other_manipulated\"\n",
    "            , palette = [\"#FF0000\", \"#0000FF\"]\n",
    "            , data=df_analysis, kind=\"point\", sharey=False\n",
    "            , aspect=0.6\n",
    "            , capsize=.08\n",
    "            , scale=1.4\n",
    "            , dodge= 0.15\n",
    "            , errwidth=2      \n",
    "            , height=4.2     \n",
    "            , legend=False\n",
    "           )\n",
    "\n",
    "sns.stripplot(x=\"male_condition\", y=\"max_corr\"\n",
    "              , hue=\"female_condition\"\n",
    "              , dodge=0.15, size=3, alpha=0.4, palette=[\"red\", \"blue\"], legend=False\n",
    "              , data=df_analysis\n",
    "             )\n",
    "\n",
    "#g.set(ylim=(-0.8, 0.9))\n",
    "\n",
    "#g.set(xticklabels=[], yticklabels=[], title='',xlabel=None, ylabel=None)\n",
    "\n",
    "plt.savefig(\"plots/max_corr_other_manip.pdf\", bbox_inches='tight')\n"
   ]
  },
  {
   "cell_type": "markdown",
   "metadata": {},
   "source": [
    "## Distributions"
   ]
  },
  {
   "cell_type": "code",
   "execution_count": null,
   "metadata": {},
   "outputs": [],
   "source": [
    "df_analysis = mi_df.groupby(\"dyad\").mean(numeric_only=True)\n",
    "\n",
    "g = sns.displot(df_analysis, x=\"max_corr\", kind=\"kde\", fill=True, aspect=0.5, height=4, color=\"black\")\n",
    "g.set(yticklabels=[], xticklabels=[], title='', xlabel=None, ylabel=None)\n",
    "plt.savefig(\"plots/max_corr_dist.pdf\",bbox_inches='tight')\n"
   ]
  },
  {
   "cell_type": "code",
   "execution_count": null,
   "metadata": {},
   "outputs": [],
   "source": [
    "from pingouin import ttest\n",
    "df_analsysis = mi_df.groupby(\"dyad\").mean(numeric_only=True)\n",
    "print(ttest(df_analsysis[\"max_corr\"].values, 0))\n",
    "print(ttest(df_analsysis[\"mi\"].values, 0))"
   ]
  },
  {
   "cell_type": "markdown",
   "metadata": {},
   "source": [
    "## Unique Condition"
   ]
  },
  {
   "cell_type": "code",
   "execution_count": null,
   "metadata": {},
   "outputs": [],
   "source": [
    "def get_unique_condition(row):\n",
    "    fc = row[\"female_condition\"]\n",
    "    mc = row[\"male_condition\"]\n",
    "    \n",
    "    if fc < mc:\n",
    "        return fc + mc\n",
    "    else:\n",
    "        return mc + fc\n",
    "    \n",
    "\n",
    "mi_df[\"unique_cond\"] = mi_df.apply(get_unique_condition, axis=1)"
   ]
  },
  {
   "cell_type": "code",
   "execution_count": null,
   "metadata": {},
   "outputs": [],
   "source": [
    "x = \"max_corr\"\n",
    "y = \"mi\"\n",
    "\n",
    "colors = [\"#000000\", \"#000000\"]\n",
    "customPalette = sns.color_palette(colors)\n",
    "\n",
    "g = sns.regplot(x=x, y=y, data=df_analysis, color=\"black\")\n",
    "\n",
    "g.figure.set_size_inches(2.7, 4.6)\n",
    "\n",
    "\n",
    "a = df_analysis[x].values\n",
    "b = df_analysis[y].values\n",
    "print(stats.pearsonr(a, b))\n",
    "\n",
    "#g.set(yticklabels=[], xticklabels=[], title='', xlabel=None, ylabel=None)\n",
    "plt.savefig(\"plots/corr_mi_max_corr_legend.pdf\", bbox_inches='tight')"
   ]
  },
  {
   "cell_type": "markdown",
   "metadata": {},
   "source": [
    "## Lag analysis"
   ]
  },
  {
   "cell_type": "code",
   "execution_count": null,
   "metadata": {},
   "outputs": [],
   "source": [
    "df_lags = pd.read_csv(\"R_scripts/data/lags_df_py_feat_happiness_all_manipulated_pairs.csv\")"
   ]
  },
  {
   "cell_type": "code",
   "execution_count": null,
   "metadata": {},
   "outputs": [],
   "source": [
    "def get_unique_condition(row):\n",
    "    fc = row[\"female_condition\"]\n",
    "    mc = row[\"male_condition\"]\n",
    "    \n",
    "    if fc < mc:\n",
    "        return fc + mc\n",
    "    else:\n",
    "        return mc + fc\n",
    "    \n",
    "\n",
    "df_lags[\"unique_cond\"] = df_lags.apply(get_unique_condition, axis=1)"
   ]
  },
  {
   "cell_type": "code",
   "execution_count": null,
   "metadata": {},
   "outputs": [],
   "source": [
    "df_analysis = df_lags\n",
    "df_analysis = df_analysis.loc[df_analysis[\"other_manipulated\"] == True]\n",
    "df_analysis = df_analysis.loc[df_analysis[\"participant_manipulated\"] == False]\n",
    "\n",
    "colors = [\"#FF0000\", \"#0c0e0c\", \"#0000FF\"]\n",
    "\n",
    "g = sns.relplot(x=\"lag\",y=\"corr\", hue=\"unique_cond\"\n",
    "                , data=df_analysis, kind=\"line\", aspect=0.8, height=4\n",
    "                , legend=False\n",
    "                , palette = colors\n",
    "                , ci=68\n",
    "                , linewidth = 2.3\n",
    "               )\n",
    "\n",
    "g.set(yticklabels=[], xticklabels=[], title='', xlabel=None, ylabel=None)\n",
    "\n",
    "plt.savefig(\"plots/correlattion.pdf\", bbox_inches='tight')"
   ]
  },
  {
   "cell_type": "code",
   "execution_count": null,
   "metadata": {},
   "outputs": [],
   "source": []
  },
  {
   "cell_type": "code",
   "execution_count": null,
   "metadata": {},
   "outputs": [],
   "source": []
  },
  {
   "cell_type": "code",
   "execution_count": null,
   "metadata": {},
   "outputs": [],
   "source": []
  },
  {
   "cell_type": "code",
   "execution_count": null,
   "metadata": {},
   "outputs": [],
   "source": []
  }
 ],
 "metadata": {
  "kernelspec": {
   "display_name": "Python [conda env:stim39]",
   "language": "python",
   "name": "conda-env-stim39-py"
  },
  "language_info": {
   "codemirror_mode": {
    "name": "ipython",
    "version": 3
   },
   "file_extension": ".py",
   "mimetype": "text/x-python",
   "name": "python",
   "nbconvert_exporter": "python",
   "pygments_lexer": "ipython3",
   "version": "3.9.16"
  },
  "toc": {
   "base_numbering": 1,
   "nav_menu": {},
   "number_sections": true,
   "sideBar": true,
   "skip_h1_title": false,
   "title_cell": "Table of Contents",
   "title_sidebar": "Contents",
   "toc_cell": false,
   "toc_position": {
    "height": "calc(100% - 180px)",
    "left": "10px",
    "top": "150px",
    "width": "376.641px"
   },
   "toc_section_display": true,
   "toc_window_display": true
  }
 },
 "nbformat": 4,
 "nbformat_minor": 4
}
